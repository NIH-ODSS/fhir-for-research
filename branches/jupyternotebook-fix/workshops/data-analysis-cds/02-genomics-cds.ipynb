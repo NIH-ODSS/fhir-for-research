{
  "cells": [
    {
      "cell_type": "markdown",
      "metadata": {},
      "source": [
        "# FHIR Genomics Analysis for Clinical Decision Support\n",
        "\n",
        "## Introduction\n",
        "\n",
        "For the best learning experience, run this tutorial interactively, via\n",
        "one of the environment setup options. Use the above button depending on\n",
        "your chosen [setup option](index.qmd#environment-setup).\n",
        "\n",
        "This tutorial explores how to work with genomic data in FHIR for\n",
        "clinical decision support (CDS) applications. We’ll use the [Synthea\n",
        "Coherent Data Set](index.qmd#synthetic-data) to retrieve and analyze\n",
        "genomic reports and observations, ultimately implementing a CDS service\n",
        "that provides actionable recommendations based on a patient’s genetic\n",
        "profile.\n",
        "\n",
        "In this tutorial, we’re using a FHIR server located at\n",
        "**http://localhost:8080/fhir**, but any FHIR server loaded with\n",
        "appropriate data can be used. For instructions on setting up your own\n",
        "test server, see [Standing up a FHIR Testing\n",
        "Server](../../modules/synthea-test-server.qmd).\n",
        "\n",
        "## Dependencies\n",
        "\n",
        "Run the cell below to install required packages if you’re in a fresh\n",
        "environment. Skip this step if you already have these packages\n",
        "installed."
      ],
      "id": "371973bd-1633-4290-ba67-757204e8b122"
    },
    {
      "cell_type": "code",
      "execution_count": 1,
      "metadata": {},
      "outputs": [],
      "source": [
        "# Install required dependencies\n",
        "try:\n",
        "  !pip install fhir_pyrate pandas==1.5.3 requests numpy==1.26.4\n",
        "\n",
        "  import numpy as np\n",
        "  if np.__version__ != '1.26.4':\n",
        "    raise ImportError(\"Incorrect numpy version\")\n",
        "except ImportError:\n",
        "  # Force runtime restart to load the updated libraries\n",
        "  print('Restarting runtime.')\n",
        "  import os\n",
        "  os.kill(os.getpid(), 9)"
      ],
      "id": "06f79e37"
    },
    {
      "cell_type": "markdown",
      "metadata": {},
      "source": [
        "## FHIR Server Setup\n",
        "\n",
        "<b>WARNING:</b> You must set a FHIR server URL below before running the\n",
        "rest of the notebook. If you don’t have access to a FHIR server, see\n",
        "<b>Standing up a FHIR Testing Server</b> on the FHIR for Research\n",
        "website for instructions."
      ],
      "id": "df1862ae-364a-41a2-9857-59f56f3abbed"
    },
    {
      "cell_type": "code",
      "execution_count": 2,
      "metadata": {},
      "outputs": [],
      "source": [
        "# Set your FHIR server URL\n",
        "import os\n",
        "\n",
        "# Replace with your actual FHIR server URL\n",
        "os.environ[\"FHIR_SERVER\"] = \"https://your-fhir-server-url.com\"\n",
        "\n",
        "# Verify\n",
        "print(f\"FHIR server set to: {os.environ.get('FHIR_SERVER')}\")\n",
        "\n",
        "# Check if default URL is being used\n",
        "if os.environ.get(\"FHIR_SERVER\") == \"https://your-fhir-server-url.com\":\n",
        "    print(\n",
        "        \"\\033[91m\\033[1m\\nWARNING: ACTION REQUIRED - Change the default FHIR server URL before continuing!\\n\\033[0m\"\n",
        "    )"
      ],
      "id": "f1cfccba"
    },
    {
      "cell_type": "markdown",
      "metadata": {},
      "source": [
        "## Basic Setup and Connection (Beginner Level)\n",
        "\n",
        "In this section, you’ll learn how to:\n",
        "\n",
        "-   Connect to a FHIR server containing genomic data\n",
        "-   Retrieve basic genetic diagnostic reports\n",
        "-   Display genomic information in a structured format\n",
        "\n",
        "First, let’s set up our connection to the FHIR server:"
      ],
      "id": "4c12c9a4-eac2-432c-804f-9d1794c11898"
    },
    {
      "cell_type": "code",
      "execution_count": 3,
      "metadata": {},
      "outputs": [
        {
          "output_type": "stream",
          "name": "stdout",
          "text": [
            "Using FHIR server: http://localhost:8080/fhir\n",
            "Server status: 200"
          ]
        }
      ],
      "source": [
        "# Load dependency\n",
        "import requests, os\n",
        "\n",
        "fhir_server = os.environ.get('FHIR_SERVER')\n",
        "print(f\"Using FHIR server: {fhir_server}\")\n",
        "\n",
        "# Check if the server is running and connection is successful\n",
        "response = requests.get(f\"{fhir_server}/metadata\")\n",
        "\n",
        "print(f\"Server status: {response.status_code}\")"
      ],
      "id": "7867a4d4"
    },
    {
      "cell_type": "markdown",
      "metadata": {},
      "source": [
        "> **Understanding the FHIR Metadata Endpoint**\n",
        ">\n",
        "> The metadata endpoint (`/metadata`) is a special FHIR endpoint that\n",
        "> returns the server’s capability statement - a structured document that\n",
        "> describes what the server can do. When we query this endpoint:\n",
        ">\n",
        "> -   We’re checking if the server is responsive (status code 200)\n",
        "> -   We’re verifying it’s a valid FHIR server\n",
        "> -   The response contains details about supported resources,\n",
        ">     operations, and search parameters\n",
        ">\n",
        "> This is a lightweight way to validate connectivity before attempting\n",
        "> more complex queries.\n",
        "\n",
        "If the server is responsive (code 200), proceed with the next code\n",
        "block."
      ],
      "id": "14656477-90a5-44e5-9ff8-6711c6cb73b5"
    },
    {
      "cell_type": "code",
      "execution_count": 4,
      "metadata": {},
      "outputs": [],
      "source": [
        "# Import required libraries\n",
        "import pandas as pd\n",
        "import json\n",
        "import re\n",
        "import os\n",
        "import requests\n",
        "from fhir_pyrate import Pirate\n",
        "from IPython.display import display, HTML\n",
        "\n",
        "# Initialize FHIR-PYrate\n",
        "search = Pirate(\n",
        "    auth=None,\n",
        "    base_url=fhir_server,\n",
        "    print_request_url=True,\n",
        ")"
      ],
      "id": "61b9d212"
    },
    {
      "cell_type": "markdown",
      "metadata": {},
      "source": [
        "Now let’s retrieve basic genetic diagnostic reports. The LOINC code\n",
        "[**55232-3**](https://loinc.org/55232-3/) refers to *Genetic analysis\n",
        "summary panel*, which is commonly used to identify genomic reports. To\n",
        "learn more about FHIRPath and mapping columns, refer to the intermediate\n",
        "level [FHIR analysis\n",
        "exercise](01-fhir-analysis.qmd#selecting-specific-columns-intermediate-level)."
      ],
      "id": "23107ab2-a307-457a-b0cb-605919df8e98"
    },
    {
      "cell_type": "code",
      "execution_count": 5,
      "metadata": {},
      "outputs": [
        {
          "output_type": "stream",
          "name": "stdout",
          "text": [
            "Retrieving basic genetic diagnostic reports...\n",
            "http://localhost:8080/fhir/DiagnosticReport?_count=10&code=http://loinc.org|55232-3"
          ]
        },
        {
          "output_type": "stream",
          "name": "stderr",
          "text": [
            "Query & Build DF (DiagnosticReport):   0%|          | 0/1 [00:00<?, ?it/s]Query & Build DF (DiagnosticReport): 100%|██████████| 1/1 [00:00<00:00, 329.97it/s]"
          ]
        },
        {
          "output_type": "stream",
          "name": "stdout",
          "text": [
            "First few genomics reports:"
          ]
        },
        {
          "output_type": "stream",
          "name": "stderr",
          "text": []
        },
        {
          "output_type": "display_data",
          "metadata": {},
          "data": {
            "text/html": [
              "\n",
              "</div>"
            ]
          }
        }
      ],
      "source": [
        "# Fetch genomics reports\n",
        "print(\"Retrieving basic genetic diagnostic reports...\")\n",
        "reports_df = search.steal_bundles_to_dataframe(\n",
        "    resource_type=\"DiagnosticReport\",\n",
        "    request_params={\"code\": \"http://loinc.org|55232-3\", \"_count\": 10},\n",
        "    num_pages=1,\n",
        "    fhir_paths=[\n",
        "        (\"id\", \"id\"),\n",
        "        (\"patient\", \"subject.reference\"),\n",
        "        (\"status\", \"status\"),\n",
        "        (\"code_display\", \"code.coding[0].display\"),\n",
        "        (\"issued\", \"issued\"),\n",
        "    ],\n",
        ")\n",
        "\n",
        "# Display the first few genomics reports\n",
        "print(\"First few genomics reports:\")\n",
        "display(reports_df.head())"
      ],
      "id": "0187a20d"
    },
    {
      "cell_type": "markdown",
      "metadata": {},
      "source": [
        "Let’s examine what information we got back. The reports DataFrame\n",
        "contains basic information about genetic diagnostic reports, including:\n",
        "\n",
        "-   Patient references\n",
        "-   Report status\n",
        "-   Test types\n",
        "-   Issue dates\n",
        "\n",
        "## Analyzing Genetic Variants (Intermediate Level)\n",
        "\n",
        "In this section, we’ll:\n",
        "\n",
        "-   Retrieve detailed genetic observations\n",
        "-   Extract variant information\n",
        "-   Process genetic data for clinical use\n",
        "\n",
        "Let’s retrieve diagnostic reports with their related observations in a\n",
        "single query:"
      ],
      "id": "c119128b-98c0-47c0-aa9f-423f2f7eaa4b"
    },
    {
      "cell_type": "code",
      "execution_count": 6,
      "metadata": {},
      "outputs": [
        {
          "output_type": "stream",
          "name": "stdout",
          "text": [
            "Retrieving genetic reports with observations...\n",
            "http://localhost:8080/fhir/DiagnosticReport?_count=10&_include=DiagnosticReport:result&code=http://loinc.org|55232-3"
          ]
        },
        {
          "output_type": "stream",
          "name": "stderr",
          "text": [
            "Query & Build DF (DiagnosticReport):   0%|          | 0/1 [00:00<?, ?it/s]Query & Build DF (DiagnosticReport): 100%|██████████| 1/1 [00:00<00:00, 258.72it/s]"
          ]
        },
        {
          "output_type": "stream",
          "name": "stdout",
          "text": [
            "\n",
            "Retrieved genetic analysis reports:"
          ]
        },
        {
          "output_type": "stream",
          "name": "stderr",
          "text": []
        },
        {
          "output_type": "display_data",
          "metadata": {},
          "data": {
            "text/html": [
              "\n",
              "</div>"
            ]
          }
        },
        {
          "output_type": "stream",
          "name": "stdout",
          "text": [
            "\n",
            "Retrieved genetic observations:\n",
            "Found 159 observations"
          ]
        },
        {
          "output_type": "display_data",
          "metadata": {},
          "data": {
            "text/html": [
              "\n",
              "</div>"
            ]
          }
        }
      ],
      "source": [
        "# Retrieve reports with related observations\n",
        "print(\"Retrieving genetic reports with observations...\")\n",
        "results = search.steal_bundles_to_dataframe(\n",
        "    resource_type=\"DiagnosticReport\",\n",
        "    request_params={\n",
        "        \"code\": \"http://loinc.org|55232-3\",  # LOINC code for \"Genetic analysis summary panel\"\n",
        "        \"_include\": \"DiagnosticReport:result\",  # Include the Observation resources\n",
        "        \"_count\": 10\n",
        "    },\n",
        "    num_pages=1\n",
        ")\n",
        "\n",
        "# Extract the different resource types from the results\n",
        "reports_df = results.get(\"DiagnosticReport\", pd.DataFrame())\n",
        "observations_df = results.get(\"Observation\", pd.DataFrame())\n",
        "\n",
        "# Display basic report information\n",
        "print(\"\\nRetrieved genetic analysis reports:\")\n",
        "display(reports_df[[\"id\", \"subject_reference\", \"status\", \"issued\"]].head())\n",
        "\n",
        "# Display observation information\n",
        "print(\"\\nRetrieved genetic observations:\")\n",
        "print(f\"Found {len(observations_df)} observations\")\n",
        "display(observations_df.head(3))"
      ],
      "id": "4e6137b4"
    },
    {
      "cell_type": "markdown",
      "metadata": {},
      "source": [
        "Now, let’s extract genetic variant information from the observations:"
      ],
      "id": "49fb40ba-baa5-486a-b63c-938730c84dae"
    },
    {
      "cell_type": "code",
      "execution_count": 7,
      "metadata": {},
      "outputs": [
        {
          "output_type": "stream",
          "name": "stdout",
          "text": [
            "\n",
            "Extracting genetic variant information...\n",
            "\n",
            "Extracted genetic variants:"
          ]
        },
        {
          "output_type": "display_data",
          "metadata": {},
          "data": {
            "text/html": [
              "\n",
              "</div>"
            ]
          }
        }
      ],
      "source": [
        "# Extract genetic variant information from observations\n",
        "print(\"\\nExtracting genetic variant information...\")\n",
        "\n",
        "# Create a list to store variant information\n",
        "variants = []\n",
        "\n",
        "# Process each observation to extract key information\n",
        "for _, row in observations_df.iterrows():\n",
        "    # Check if text content is available\n",
        "    if 'code_text' in row and not pd.isna(row['code_text']):\n",
        "        display_text = str(row['code_text'])\n",
        "        \n",
        "        # Extract genetic information using regular expressions\n",
        "        gene_match = re.search(r'The (\\S+) gene', display_text)\n",
        "        significance_match = re.search(r\"variation of '([^']+)'\", display_text)\n",
        "        variant_match = re.search(r'index (\\S+) is', display_text)\n",
        "        risks_match = re.search(r'risk of: (.+)\\.', display_text)\n",
        "        \n",
        "        # Create a record with the extracted information\n",
        "        variant_info = {\n",
        "            'patient': row['subject_reference'],\n",
        "            'gene': gene_match.group(1) if gene_match else 'Unknown',\n",
        "            'clinical_significance': significance_match.group(1) if significance_match else 'Unknown',\n",
        "            'variant_id': variant_match.group(1) if variant_match else 'Unknown',\n",
        "            'associated_risks': risks_match.group(1) if risks_match else 'Unknown'\n",
        "        }\n",
        "        \n",
        "        variants.append(variant_info)\n",
        "\n",
        "# Convert to DataFrame for easier analysis\n",
        "variants_df = pd.DataFrame(variants)\n",
        "\n",
        "# Display the extracted variants\n",
        "print(\"\\nExtracted genetic variants:\")\n",
        "display(variants_df.head(5))"
      ],
      "id": "1f6d191c"
    },
    {
      "cell_type": "markdown",
      "metadata": {},
      "source": [
        "## Implementing Clinical Decision Support (Advanced Level)\n",
        "\n",
        "In this section, we’ll:\n",
        "\n",
        "-   Filter for clinically significant variants\n",
        "-   Generate clinical recommendations\n",
        "-   Implement a CDS service to deliver these recommendations\n",
        "\n",
        "First, let’s filter for variants with significant clinical impact:"
      ],
      "id": "e85fa4d2-403e-48b4-860b-dbcfbdf3f547"
    },
    {
      "cell_type": "code",
      "execution_count": 8,
      "metadata": {},
      "outputs": [
        {
          "output_type": "stream",
          "name": "stdout",
          "text": [
            "Filtering for clinically significant variants...\n",
            "Found 25 variants with clinical significance"
          ]
        },
        {
          "output_type": "display_data",
          "metadata": {},
          "data": {
            "text/html": [
              "\n",
              "</div>"
            ]
          }
        }
      ],
      "source": [
        "# Filter for variants with significant clinical impact\n",
        "print(\"Filtering for clinically significant variants...\")\n",
        "pathogenic_variants = variants_df[\n",
        "    variants_df['clinical_significance'].str.contains('Pathogenic|Risk Factor', na=False)\n",
        "]\n",
        "\n",
        "print(f\"Found {len(pathogenic_variants)} variants with clinical significance\")\n",
        "display(pathogenic_variants.head())"
      ],
      "id": "34bb89c4"
    },
    {
      "cell_type": "markdown",
      "metadata": {},
      "source": [
        "Now that we’ve analyzed genetic variants and generated recommendations,\n",
        "let’s explore how to deploy these as a clinical decision support service\n",
        "using CDS Hooks.\n",
        "\n",
        "### What Are CDS Hooks?\n",
        "\n",
        "CDS Hooks is a standard for integrating clinical decision support into\n",
        "electronic health record (EHR) systems at the point of care. It allows\n",
        "our genomic analysis recommendations to be delivered to clinicians at\n",
        "the right time and in the right context.\n",
        "\n",
        "For a comprehensive introduction to CDS Hooks, please refer to [CDS\n",
        "Hooks Introduction](../../modules/new-cds-hooks-intro.qmd), which covers\n",
        "the fundamental concepts, workflow, and implementation details.\n",
        "\n",
        "### Implementing a CDS Hooks Service for Genomic Analysis\n",
        "\n",
        "Now, let’s create a CDS Hooks service to serve our genomic\n",
        "recommendations. This service will:\n",
        "\n",
        "1.  Analyze a patient’s genetic data in real-time\n",
        "2.  Generate appropriate clinical recommendations\n",
        "3.  Return these recommendations as CDS Hooks cards\n",
        "\n",
        "The service exposes two endpoints:\n",
        "\n",
        "-   A discovery endpoint that tells EHRs what services are available\n",
        "-   A service endpoint that processes requests and returns\n",
        "    recommendations\n",
        "\n",
        "We will use [Flask](https://flask.palletsprojects.com/en/stable/), a\n",
        "lightweight application framework for writing web applications and\n",
        "services using Python."
      ],
      "id": "4e3d5659-04d7-4e34-bda9-921763ad938c"
    },
    {
      "cell_type": "code",
      "execution_count": 9,
      "metadata": {},
      "outputs": [
        {
          "output_type": "stream",
          "name": "stdout",
          "text": [
            "/home/runner/work/fhir-for-research/fhir-for-research/.venv/bin/python3: No module named pip\n",
            "Note: you may need to restart the kernel to use updated packages."
          ]
        }
      ],
      "source": [
        "# Install Flask if needed\n",
        "%pip install flask"
      ],
      "id": "b92ac7b2"
    },
    {
      "cell_type": "code",
      "execution_count": 10,
      "metadata": {},
      "outputs": [
        {
          "output_type": "stream",
          "name": "stderr",
          "text": [
            "INFO:werkzeug:WARNING: This is a development server. Do not use it in a production deployment. Use a production WSGI server instead.\n",
            " * Running on http://localhost:3299\n",
            "INFO:werkzeug:Press CTRL+C to quit"
          ]
        },
        {
          "output_type": "stream",
          "name": "stdout",
          "text": [
            "CDS Hooks service running at http://localhost:3299/cds-services"
          ]
        }
      ],
      "source": [
        "# Import necessary libraries\n",
        "from flask import Flask, jsonify, request\n",
        "import threading\n",
        "import time\n",
        "import re\n",
        "import pandas as pd\n",
        "\n",
        "# Choose a port for the Flask server\n",
        "flask_port = 3299\n",
        "flask_server_thread = None\n",
        "\n",
        "# Create a Flask application\n",
        "app = Flask(__name__)\n",
        "\n",
        "# CDS Hooks discovery endpoint - this tells EHRs what services we provide\n",
        "@app.route('/cds-services', methods=['GET'])\n",
        "def discovery():\n",
        "    return jsonify({\n",
        "        'services': [\n",
        "            {\n",
        "                'id': 'genomics-advisor',\n",
        "                'hook': 'patient-view',\n",
        "                'title': 'Genomics Clinical Advisor',\n",
        "                'description': 'Provides recommendations based on genetic findings',\n",
        "                # Note: In a production environment, prefetch could be used for optimization\n",
        "                # but is omitted here for simplicity\n",
        "            }\n",
        "        ]\n",
        "    })\n",
        "\n",
        "# CDS Hooks service endpoint - this returns recommendations for a specific patient\n",
        "@app.route('/cds-services/genomics-advisor', methods=['POST'])\n",
        "def genomics_advisor():\n",
        "    # Get data from the request\n",
        "    request_data = request.json\n",
        "    context = request_data.get('context', {})\n",
        "    patient_id = context.get('patientId')\n",
        "    \n",
        "    print(f\"Processing request for patient: {patient_id}\")\n",
        "    \n",
        "    try:\n",
        "        # Query for this specific patient's genetic reports\n",
        "        diagnostic_reports = search.steal_bundles_to_dataframe(\n",
        "            resource_type=\"DiagnosticReport\",\n",
        "            request_params={\n",
        "                \"code\": \"http://loinc.org|55232-3\",  # Genetic analysis summary panel\n",
        "                \"subject\": patient_id,\n",
        "                \"_count\": 100\n",
        "            },\n",
        "            num_pages=1\n",
        "        )\n",
        "        \n",
        "        # Check if we got results\n",
        "        if isinstance(diagnostic_reports, dict) and \"DiagnosticReport\" in diagnostic_reports:\n",
        "            reports_df = diagnostic_reports[\"DiagnosticReport\"]\n",
        "        else:\n",
        "            # The data might be directly in the DataFrame\n",
        "            reports_df = diagnostic_reports\n",
        "        \n",
        "        if reports_df.empty:\n",
        "            print(\"No genetic reports found for this patient\")\n",
        "            pathogenic_variants = pd.DataFrame()\n",
        "        else:\n",
        "            print(f\"Found {len(reports_df)} genetic reports for patient {patient_id}\")\n",
        "            \n",
        "            # Extract genetic information from flattened result columns\n",
        "            variants = []\n",
        "            import re\n",
        "            \n",
        "            # Identify all result display columns\n",
        "            display_columns = [col for col in reports_df.columns if 'result' in col and 'display' in col]\n",
        "            print(f\"Found {len(display_columns)} result display columns\")\n",
        "            \n",
        "            # Process each result display column\n",
        "            for col in display_columns:\n",
        "                for _, row in reports_df.iterrows():\n",
        "                    if pd.notna(row[col]):\n",
        "                        display_text = str(row[col])\n",
        "                        \n",
        "                        # Extract information using regex\n",
        "                        gene_match = re.search(r'The (\\S+) gene', display_text)\n",
        "                        significance_match = re.search(r\"variation of '([^']+)'\", display_text)\n",
        "                        variant_match = re.search(r'index (\\S+) is', display_text)\n",
        "                        risks_match = re.search(r'risk of: (.+)\\.', display_text)\n",
        "                        \n",
        "                        if gene_match or significance_match:\n",
        "                            variant_info = {\n",
        "                                'gene': gene_match.group(1) if gene_match else 'Unknown',\n",
        "                                'clinical_significance': significance_match.group(1) if significance_match else 'Unknown',\n",
        "                                'variant_id': variant_match.group(1) if variant_match else 'Unknown',\n",
        "                                'associated_risks': risks_match.group(1) if risks_match else 'Unknown'\n",
        "                            }\n",
        "                            \n",
        "                            variants.append(variant_info)\n",
        "            \n",
        "            # Convert to DataFrame and filter for pathogenic variants\n",
        "            variants_df = pd.DataFrame(variants)\n",
        "            print(f\"Extracted {len(variants_df)} variants\")\n",
        "            \n",
        "            if not variants_df.empty:\n",
        "                pathogenic_variants = variants_df[\n",
        "                    variants_df['clinical_significance'].str.contains('Pathogenic|Risk Factor', case=False)\n",
        "                ]\n",
        "                print(f\"Found {len(pathogenic_variants)} pathogenic variants\")\n",
        "            else:\n",
        "                print(\"No variants could be extracted\")\n",
        "                pathogenic_variants = pd.DataFrame()\n",
        "                \n",
        "    except Exception as e:\n",
        "        import traceback\n",
        "        print(f\"Error querying FHIR server: {e}\")\n",
        "        print(\"Traceback:\")\n",
        "        traceback.print_exc()\n",
        "        pathogenic_variants = pd.DataFrame()\n",
        "    \n",
        "    # Generate recommendations based on pathogenic variants\n",
        "    recommendations = []\n",
        "    \n",
        "    if not pathogenic_variants.empty:\n",
        "        # Check for specific gene variants\n",
        "        genes = pathogenic_variants['gene'].unique()\n",
        "        print(f\"Found genes for recommendations: {genes}\")\n",
        "        \n",
        "        # Known genes with clinical recommendations\n",
        "        gene_recommendations = {\n",
        "            'APOE': {\n",
        "                'title': 'APOE Pathogenic Variant Detected',\n",
        "                'detail': 'Consider lipid panel and cardiovascular risk assessment',\n",
        "                'source': 'Clinical Practice Guidelines',\n",
        "                'urgency': 'high'\n",
        "            },\n",
        "            'BRCA1': {\n",
        "                'title': 'BRCA1 Pathogenic Variant Detected',\n",
        "                'detail': 'Consider cancer risk assessment and screening',\n",
        "                'source': 'NCCN Guidelines',\n",
        "                'urgency': 'high'\n",
        "            },\n",
        "            'BRCA2': {\n",
        "                'title': 'BRCA2 Pathogenic Variant Detected',\n",
        "                'detail': 'Consider cancer risk assessment and screening',\n",
        "                'source': 'NCCN Guidelines',\n",
        "                'urgency': 'high'\n",
        "            },\n",
        "            'PON1': {\n",
        "                'title': 'PON1 Risk Variant Detected',\n",
        "                'detail': 'Consider cardiovascular risk assessment and lipid-lowering therapy',\n",
        "                'source': 'Cardiovascular Guidelines',\n",
        "                'urgency': 'medium'\n",
        "            },\n",
        "            'ADRB3': {\n",
        "                'title': 'ADRB3 Risk Variant Detected',\n",
        "                'detail': 'Associated with metabolic disorders and cardiovascular risk',\n",
        "                'source': 'Metabolic Risk Guidelines',\n",
        "                'urgency': 'medium'\n",
        "            },\n",
        "            'CCL2': {\n",
        "                'title': 'CCL2 Pathogenic Variant Detected',\n",
        "                'detail': 'Associated with inflammatory processes and stroke risk',\n",
        "                'source': 'Stroke Risk Guidelines',\n",
        "                'urgency': 'high'\n",
        "            },\n",
        "            'FTO': {\n",
        "                'title': 'FTO Risk Variant Detected',\n",
        "                'detail': 'Associated with obesity and insulin resistance',\n",
        "                'source': 'Metabolic Guidelines',\n",
        "                'urgency': 'medium'\n",
        "            }\n",
        "        }\n",
        "        \n",
        "        # Add recommendations for each significant gene\n",
        "        for gene in genes:\n",
        "            if gene in gene_recommendations:\n",
        "                recommendations.append(gene_recommendations[gene])\n",
        "                print(f\"Added recommendation for gene: {gene}\")\n",
        "        \n",
        "        # Check for risk categories in all variants\n",
        "        all_risks = ' '.join(pathogenic_variants['associated_risks'].dropna())\n",
        "        \n",
        "        # Add general variant recommendations if no specific ones\n",
        "        if not recommendations and len(pathogenic_variants) > 0:\n",
        "            unique_genes = ', '.join(genes)\n",
        "            recommendations.append({\n",
        "                'title': 'Genetic Variants Detected',\n",
        "                'detail': f'Clinically significant variants found in genes: {unique_genes}',\n",
        "                'source': 'Genetic Analysis',\n",
        "                'urgency': 'medium'\n",
        "            })\n",
        "            print(f\"Added general recommendation for genes: {unique_genes}\")\n",
        "    else:\n",
        "        print(\"No pathogenic variants found, no recommendations generated\")\n",
        "    \n",
        "    # Convert recommendations to CDS cards\n",
        "    cards = []\n",
        "    \n",
        "    for rec in recommendations:\n",
        "        cards.append({\n",
        "            'summary': f\"{rec['title']}\",\n",
        "            'indicator': 'warning' if rec['urgency'] == 'high' else 'info',\n",
        "            'detail': rec['detail'],\n",
        "            'source': {\n",
        "                'label': rec['source']\n",
        "            }\n",
        "        })\n",
        "    \n",
        "    # If no recommendations were found, provide a default card\n",
        "    if not cards:\n",
        "        cards = [{\n",
        "            'summary': f'No Significant Genetic Findings - {test_patient_id}',\n",
        "            'indicator': 'info',\n",
        "            'detail': 'No pathogenic or likely pathogenic variants detected in this patient\\'s genetic analysis.',\n",
        "            'source': {\n",
        "                'label': 'Genomics Service'\n",
        "            }\n",
        "        }]\n",
        "    \n",
        "    # Return the CDS Hooks response\n",
        "    return jsonify({'cards': cards})\n",
        "\n",
        "# Start Flask in a background thread\n",
        "def run_flask_in_thread():\n",
        "    from werkzeug.serving import run_simple\n",
        "    run_simple('localhost', flask_port, app, use_reloader=False, use_debugger=False)\n",
        "\n",
        "# Start the Flask server\n",
        "flask_server_thread = threading.Thread(target=run_flask_in_thread)\n",
        "flask_server_thread.daemon = True  # Thread will exit when the notebook exits\n",
        "flask_server_thread.start()\n",
        "\n",
        "# Give the server a moment to start\n",
        "time.sleep(1)\n",
        "\n",
        "print(f\"CDS Hooks service running at http://localhost:{flask_port}/cds-services\")"
      ],
      "id": "e96239b0"
    },
    {
      "cell_type": "markdown",
      "metadata": {},
      "source": [
        "### Testing Our CDS Hooks Service\n",
        "\n",
        "Now that our CDS Hooks service is running, let’s test it by simulating\n",
        "how an EHR would interact with it. When a clinician opens a patient’s\n",
        "record in an EHR system, the EHR sends a request to all registered CDS\n",
        "services, allowing them to provide relevant recommendations."
      ],
      "id": "8b138637-b44c-4429-90c2-570e5411d85c"
    },
    {
      "cell_type": "code",
      "execution_count": 11,
      "metadata": {},
      "outputs": [
        {
          "output_type": "stream",
          "name": "stdout",
          "text": [
            "Querying for genetic diagnostic reports...\n",
            "http://localhost:8080/fhir/DiagnosticReport?_count=5&_include=DiagnosticReport:result&code=http://loinc.org|55232-3"
          ]
        },
        {
          "output_type": "stream",
          "name": "stderr",
          "text": [
            "Query & Build DF (DiagnosticReport):   0%|          | 0/1 [00:00<?, ?it/s]Query & Build DF (DiagnosticReport): 100%|██████████| 1/1 [00:00<00:00, 49.01it/s]"
          ]
        },
        {
          "output_type": "stream",
          "name": "stdout",
          "text": [
            "Found 5 genetic reports"
          ]
        },
        {
          "output_type": "stream",
          "name": "stderr",
          "text": []
        },
        {
          "output_type": "display_data",
          "metadata": {},
          "data": {
            "text/html": [
              "\n",
              "</div>"
            ]
          }
        },
        {
          "output_type": "stream",
          "name": "stdout",
          "text": [
            "Found 159 genetic observations\n",
            "Selected patient with genetic data: Patient/df860bc2-1943-237f-7445-ed960a1ef069\n",
            "Testing with patient ID: Patient/df860bc2-1943-237f-7445-ed960a1ef069"
          ]
        }
      ],
      "source": [
        "# Let's directly query for genetic reports and work with a patient that definitely has genetic data\n",
        "print(\"Querying for genetic diagnostic reports...\")\n",
        "genetic_reports_dict = search.steal_bundles_to_dataframe(\n",
        "    resource_type=\"DiagnosticReport\",\n",
        "    request_params={\n",
        "        \"code\": \"http://loinc.org|55232-3\",  # Genetic analysis summary panel\n",
        "        \"_count\": 5,\n",
        "        \"_include\": \"DiagnosticReport:result\",  # Include the Observation resources\n",
        "    },\n",
        "    num_pages=1,\n",
        "    fhir_paths=[\n",
        "        (\"id\", \"id\"),\n",
        "        (\"subject\", \"subject.reference\"),\n",
        "        (\"status\", \"status\"),\n",
        "        (\"issued\", \"issued\"),\n",
        "    ]\n",
        ")\n",
        "\n",
        "# Display diagnostic reports\n",
        "genetic_reports_df = genetic_reports_dict[\"DiagnosticReport\"]\n",
        "print(f\"Found {len(genetic_reports_df)} genetic reports\")\n",
        "display(genetic_reports_df.head())\n",
        "    \n",
        "# Display observations count if available\n",
        "if \"Observation\" in genetic_reports_dict:\n",
        "    observations_df = genetic_reports_dict[\"Observation\"]\n",
        "    print(f\"Found {len(observations_df)} genetic observations\")\n",
        "    \n",
        "# Select a patient of interest, as if a clinician selected a patient from the EHR\n",
        "test_patient_id = genetic_reports_df.loc[genetic_reports_df[\"subject\"] == \"Patient/df860bc2-1943-237f-7445-ed960a1ef069\", \"subject\"].values[0]\n",
        "print(f\"Selected patient with genetic data: {test_patient_id}\")\n",
        "print(f\"Testing with patient ID: {test_patient_id}\")"
      ],
      "id": "ce427bae"
    },
    {
      "cell_type": "markdown",
      "metadata": {},
      "source": [
        "> **Testing Locally vs. Production**\n",
        ">\n",
        "> In production, EHR systems would send requests directly to your CDS\n",
        "> Hooks service. Since we’re developing locally, we need to manually\n",
        "> mock these requests to test our service without connecting to a real\n",
        "> EHR system."
      ],
      "id": "55bb108b-483c-4b85-ad43-bd047800e565"
    },
    {
      "cell_type": "code",
      "execution_count": 12,
      "metadata": {},
      "outputs": [
        {
          "output_type": "stream",
          "name": "stdout",
          "text": [
            "Sending request to CDS service...\n",
            "\n",
            "CDS Service Response:\n",
            "{\n",
            "  \"cards\": [\n",
            "    {\n",
            "      \"detail\": \"Consider cardiovascular risk assessment and lipid-lowering therapy\",\n",
            "      \"indicator\": \"info\",\n",
            "      \"source\": {\n",
            "        \"label\": \"Cardiovascular Guidelines\"\n",
            "      },\n",
            "      \"summary\": \"PON1 Risk Variant Detected\"\n",
            "    },\n",
            "    {\n",
            "      \"detail\": \"Associated with obesity and insulin resistance\",\n",
            "      \"indicator\": \"info\",\n",
            "      \"source\": {\n",
            "        \"label\": \"Metabolic Guidelines\"\n",
            "      },\n",
            "      \"summary\": \"FTO Risk Variant Detected\"\n",
            "    },\n",
            "    {\n",
            "      \"detail\": \"Associated with inflammatory processes and stroke risk\",\n",
            "      \"indicator\": \"warning\",\n",
            "      \"source\": {\n",
            "        \"label\": \"Stroke Risk Guidelines\"\n",
            "      },\n",
            "      \"summary\": \"CCL2 Pathogenic Variant Detected\"\n",
            "    }\n",
            "  ]\n",
            "}"
          ]
        }
      ],
      "source": [
        "# Create a request with the selected patient\n",
        "mock_request = {\n",
        "    \"hook\": \"patient-view\",\n",
        "    \"hookInstance\": \"d1577c69-dfbe-44ad-ba6d-3e05e953b2ea\",\n",
        "    \"context\": {\n",
        "        \"patientId\": test_patient_id\n",
        "    }\n",
        "}\n",
        "\n",
        "# Send the request to our CDS service\n",
        "print(\"Sending request to CDS service...\")\n",
        "service_response = requests.post(\n",
        "    f\"http://localhost:{flask_port}/cds-services/genomics-advisor\", \n",
        "    json=mock_request\n",
        ")\n",
        "\n",
        "# Display the JSON response from our service\n",
        "print(\"\\nCDS Service Response:\")\n",
        "print(json.dumps(service_response.json(), indent=2))"
      ],
      "id": "3648acbb"
    },
    {
      "cell_type": "markdown",
      "metadata": {},
      "source": [
        "The response contains CDS cards with our recommendations. These cards\n",
        "would typically be displayed directly in the EHR interface to help\n",
        "clinicians make informed decisions. Let’s create a visual representation\n",
        "of how these cards might appear in an EHR system:"
      ],
      "id": "9ac5fe9f-f3c1-4780-ab23-efc68b3b030b"
    },
    {
      "cell_type": "code",
      "execution_count": 13,
      "metadata": {},
      "outputs": [
        {
          "output_type": "stream",
          "name": "stdout",
          "text": [
            "\n",
            "Visualization of CDS Cards in EHR Interface:"
          ]
        },
        {
          "output_type": "display_data",
          "metadata": {},
          "data": {
            "text/html": [
              "\n",
              "<div style=\"font-family: Arial, sans-serif; border: 1px solid #ccc; border-radius: 5px; padding: 15px; max-width: 700px; margin: 0 auto;\">\n",
              "    <div style=\"border-bottom: 1px solid #ddd; padding-bottom: 10px; margin-bottom: 15px;\">\n",
              "        <h3 style=\"margin-top: 0;\">EHR Patient View: Patient/df860bc2-1943-237f-7445-ed960a1ef069</h3>\n",
              "        <div style=\"color: #666; font-size: 0.9em;\">Genomic Decision Support</div>\n",
              "    </div>\n",
              "    \n",
              "    <div style=\"background-color: #f8f9fa; border: 1px solid #e9ecef; padding: 10px; margin-bottom: 15px; border-radius: 3px;\">\n",
              "        <p style=\"margin: 0; font-size: 0.9em; color: #6c757d;\">\n",
              "            <strong>Demo Note:</strong> This is a simulation of how CDS Hooks would appear in an EHR. \n",
              "            The buttons shown below are not functional in this demo. In a real implementation, \n",
              "            clinicians would be able to click these buttons to take recommended actions.\n",
              "        </p>\n",
              "    </div>\n",
              "\n",
              "        <div style=\"border-left: 4px solid #007bff; padding: 10px 15px; margin-bottom: 10px; background-color: #f8f9fa;\">\n",
              "            <h4 style=\"margin-top: 0;\">PON1 Risk Variant Detected</h4>\n",
              "            <p>Consider cardiovascular risk assessment and lipid-lowering therapy</p>\n",
              "        <div style=\"color: #6c757d; font-size: 0.85em; margin-top: 5px;\">Source: Cardiovascular Guidelines</div></div>\n",
              "        <div style=\"border-left: 4px solid #007bff; padding: 10px 15px; margin-bottom: 10px; background-color: #f8f9fa;\">\n",
              "            <h4 style=\"margin-top: 0;\">FTO Risk Variant Detected</h4>\n",
              "            <p>Associated with obesity and insulin resistance</p>\n",
              "        <div style=\"color: #6c757d; font-size: 0.85em; margin-top: 5px;\">Source: Metabolic Guidelines</div></div>\n",
              "        <div style=\"border-left: 4px solid #ff9800; padding: 10px 15px; margin-bottom: 10px; background-color: #f8f9fa;\">\n",
              "            <h4 style=\"margin-top: 0;\">CCL2 Pathogenic Variant Detected</h4>\n",
              "            <p>Associated with inflammatory processes and stroke risk</p>\n",
              "        <div style=\"color: #6c757d; font-size: 0.85em; margin-top: 5px;\">Source: Stroke Risk Guidelines</div></div></div>"
            ]
          }
        }
      ],
      "source": [
        "# Extract the CDS cards from the response\n",
        "cards = service_response.json().get('cards', [])\n",
        "\n",
        "# Create a simple HTML visualization to show how these cards would appear in an EHR\n",
        "html_output = f\"\"\"\n",
        "<div style=\"font-family: Arial, sans-serif; border: 1px solid #ccc; border-radius: 5px; padding: 15px; max-width: 700px; margin: 0 auto;\">\n",
        "    <div style=\"border-bottom: 1px solid #ddd; padding-bottom: 10px; margin-bottom: 15px;\">\n",
        "        <h3 style=\"margin-top: 0;\">EHR Patient View: {test_patient_id}</h3>\n",
        "        <div style=\"color: #666; font-size: 0.9em;\">Genomic Decision Support</div>\n",
        "    </div>\n",
        "    \n",
        "    <div style=\"background-color: #f8f9fa; border: 1px solid #e9ecef; padding: 10px; margin-bottom: 15px; border-radius: 3px;\">\n",
        "        <p style=\"margin: 0; font-size: 0.9em; color: #6c757d;\">\n",
        "            <strong>Demo Note:</strong> This is a simulation of how CDS Hooks would appear in an EHR. \n",
        "            The buttons shown below are not functional in this demo. In a real implementation, \n",
        "            clinicians would be able to click these buttons to take recommended actions.\n",
        "        </p>\n",
        "    </div>\n",
        "\"\"\"\n",
        "\n",
        "# Add each card to the visualization\n",
        "if not cards:\n",
        "    html_output += \"<p>No clinical decision support recommendations available for this patient.</p>\"\n",
        "else:\n",
        "    for card in cards:\n",
        "        # Set card color based on importance\n",
        "        border_color = \"#007bff\"  # Default blue\n",
        "        if card.get('indicator') == \"warning\":\n",
        "            border_color = \"#ff9800\"  # Orange for warnings\n",
        "        elif card.get('indicator') == \"critical\":\n",
        "            border_color = \"#dc3545\"  # Red for critical alerts\n",
        "            \n",
        "        # Create the card HTML\n",
        "        html_output += f\"\"\"\n",
        "        <div style=\"border-left: 4px solid {border_color}; padding: 10px 15px; margin-bottom: 10px; background-color: #f8f9fa;\">\n",
        "            <h4 style=\"margin-top: 0;\">{card.get('summary', '')}</h4>\n",
        "            <p>{card.get('detail', '')}</p>\n",
        "        \"\"\"\n",
        "        \n",
        "        # Add suggestion buttons\n",
        "        if 'suggestions' in card:\n",
        "            html_output += '<div>'\n",
        "            for suggestion in card.get('suggestions', []):\n",
        "                html_output += f'<span style=\"display: inline-block; background: #e9ecef; border: 1px solid #ced4da; padding: 5px 10px; border-radius: 3px; margin-top: 8px; margin-right: 5px; cursor: pointer;\">{suggestion.get(\"label\", \"\")}</span>'\n",
        "            html_output += '</div>'\n",
        "            \n",
        "        # Add source information\n",
        "        if 'source' in card:\n",
        "            html_output += f'<div style=\"color: #6c757d; font-size: 0.85em; margin-top: 5px;\">Source: {card.get(\"source\", {}).get(\"label\", \"\")}</div>'\n",
        "            \n",
        "        html_output += '</div>'\n",
        "\n",
        "html_output += \"</div>\"\n",
        "\n",
        "# Display the HTML\n",
        "print(\"\\nVisualization of CDS Cards in EHR Interface:\")\n",
        "display(HTML(html_output))"
      ],
      "id": "083a67ea"
    }
  ],
  "nbformat": 4,
  "nbformat_minor": 5,
  "metadata": {
    "kernelspec": {
      "name": "python3",
      "display_name": "Python 3 (ipykernel)",
      "language": "python",
      "path": "/home/runner/work/fhir-for-research/fhir-for-research/.venv/share/jupyter/kernels/python3"
    },
    "language_info": {
      "name": "python",
      "codemirror_mode": {
        "name": "ipython",
        "version": "3"
      },
      "file_extension": ".py",
      "mimetype": "text/x-python",
      "nbconvert_exporter": "python",
      "pygments_lexer": "ipython3",
      "version": "3.11.12"
    }
  }
}