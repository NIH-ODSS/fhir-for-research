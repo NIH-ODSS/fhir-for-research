{
  "cells": [
    {
      "cell_type": "markdown",
      "metadata": {},
      "source": [
        "# Analyzing FHIR Data in a Tabular Format With Python\n",
        "\n",
        "Data analysis approaches in Python often use [Pandas\n",
        "DataFrames](https://pandas.pydata.org/pandas-docs/stable/reference/api/pandas.DataFrame.html)\n",
        "to store tabular data. There are two primary approaches to loading\n",
        "FHIR-formatted data into Pandas DataFrames:\n",
        "\n",
        "1.  Writing Python code to manually convert FHIR instances in JSON\n",
        "    format into DataFrames.\n",
        "\n",
        "    This does not require any special skills beyond data manipulation in\n",
        "    Python, but in practice can be laborious (especially with large\n",
        "    number of data elements) and prone to bugs.\n",
        "\n",
        "2.  Using a purpose-built library like\n",
        "    [FHIR-PYrate](https://github.com/UMEssen/FHIR-PYrate) to\n",
        "    automatically convert FHIR instances into DataFrames.\n",
        "\n",
        "    It is recommended to try this approach first, and only fall back\n",
        "    to (1) if needed.\n",
        "\n",
        "To use FHIR-PYrate, you will need a [Python\n",
        "3](https://docs.python.org/3/tutorial/index.html) runtime with\n",
        "FHIR-PYrate and Pandas installed.\n",
        "\n",
        "## 1 FHIR testing server\n",
        "\n",
        "The examples in this module use a FHIR testing server populated with\n",
        "[Synthea data in FHIR R4 format](https://synthea.mitre.org/downloads)\n",
        "via [public HAPI Test Server](https://hapi.fhir.org/) operated by [HAPI\n",
        "FHIR](https://hapifhir.io/).\n",
        "\n",
        "The endpoint for this testing server is:\n",
        "\n",
        "    https://hapi.fhir.org/baseR4\n",
        "\n",
        "However, any FHIR server loaded with testing data can be used. See\n",
        "[Standing up a FHIR Testing Server](synthea-test-server.qmd) for\n",
        "instructions to set up your own test server.\n",
        "\n",
        "The code blocks in the following section show sample output immediately\n",
        "after. This is similar to the code cells and results in a [Jupyter\n",
        "notebook](https://jupyter.org).\n",
        "\n",
        "## 2 Retrieving FHIR data\n",
        "\n",
        "Once your environment is set up, you can run the following Python code\n",
        "to retrieve instances of the Patient resource from a test server:"
      ],
      "id": "5ee20cb7-d710-4a93-8374-b6ac1f0b8960"
    },
    {
      "cell_type": "code",
      "execution_count": 1,
      "metadata": {},
      "outputs": [
        {
          "output_type": "stream",
          "name": "stdout",
          "text": [
            "https://hapi.fhir.org/baseR4/Patient?_count=10&identifier=https://github.com/synthetichealth/synthea|"
          ]
        },
        {
          "output_type": "stream",
          "name": "stderr",
          "text": [
            "Query (Patient):   0%|          | 0/1 [00:00<?, ?it/s]Query (Patient): 100%|██████████| 1/1 [00:00<00:00, 3059.30it/s]"
          ]
        },
        {
          "output_type": "display_data",
          "metadata": {},
          "data": {
            "text/html": [
              "\n",
              "<p>2 rows × 92 columns</p>\n",
              "</div>"
            ]
          }
        }
      ],
      "source": [
        "# Load dependencies\n",
        "from fhir_pyrate import Pirate\n",
        "import pandas as pd\n",
        "\n",
        "# Instantiate a Pirate object using the FHIR-PYrate library to query a test FHIR server\n",
        "search = Pirate(\n",
        "    auth=None,\n",
        "    base_url=\"https://hapi.fhir.org/baseR4\",\n",
        "    print_request_url=True,\n",
        ")\n",
        "\n",
        "# Use the whimsically named `steal_bundles()` method to instantiate a search interaction\n",
        "#\n",
        "# For more information, see https://github.com/UMEssen/FHIR-PYrate/#pirate\n",
        "bundles = search.steal_bundles(\n",
        "    resource_type=\"Patient\",\n",
        "    request_params={\n",
        "        \"_count\": 10,  # Get 10 instances per page\n",
        "        \"identifier\": \"https://github.com/synthetichealth/synthea|\",\n",
        "    },\n",
        "    num_pages=1,  # Get 1 page (so a total of 10 instances)\n",
        ")\n",
        "\n",
        "# Execute the search and convert to a Pandas DataFrame\n",
        "df = search.bundles_to_dataframe(bundles)\n",
        "\n",
        "df.head(5)"
      ],
      "id": "9a37138d"
    },
    {
      "cell_type": "markdown",
      "metadata": {},
      "source": [
        "It is easier to see the contents of this DataFrame by printing out its\n",
        "first row vertically:"
      ],
      "id": "ad516d6e-c3bf-4db4-af6e-58ebf0e2d70b"
    },
    {
      "cell_type": "code",
      "execution_count": 2,
      "metadata": {},
      "outputs": [
        {
          "output_type": "display_data",
          "metadata": {},
          "data": {
            "text/html": [
              "\n",
              "</div>"
            ]
          }
        }
      ],
      "source": [
        "# Print the first row of the DataFrame vertically for easier reading.\n",
        "pd.set_option(\"display.max_rows\", 100)  # Show all rows\n",
        "df.head(1).T"
      ],
      "id": "aeeff3fc"
    },
    {
      "cell_type": "markdown",
      "metadata": {},
      "source": [
        "If you look at the output above, you can see FHIR-PYrate collapsed the\n",
        "hierarchical FHIR data structure into DataFrame columns. FHIR-PYrate\n",
        "does this by taking an element from the FHIR-formatted data like\n",
        "`Patient.identifier[0].value` and converting to an underscore-delimited\n",
        "column name like `identifier_0_value`. (Note that `Patient.identifier`\n",
        "has multiple values in the FHIR data, so there are multiple\n",
        "`identifier_N_...` columns in the DataFrame.)\n",
        "\n",
        "## 3 Selecting specific columns\n",
        "\n",
        "Usually not every single value from a FHIR instance is needed for\n",
        "analysis. There are two ways to get a more concise DataFrame:\n",
        "\n",
        "1.  Use the approach above to load all elements into a DataFrame, remove\n",
        "    the unneeded columns, and rename the remaining columns as needed.\n",
        "    The [`process_function` capability in\n",
        "    FHIR-PYrate](https://github.com/UMEssen/FHIR-PYrate#bundles_to_dataframe)\n",
        "    allows you to integrate this approach into the\n",
        "    `bundles_to_dataframe()` method call.\n",
        "2.  Use [FHIRPath](https://hl7.org/fhirpath/) to select specific\n",
        "    elements and map them onto column names.\n",
        "\n",
        "The second approach is typically more concise. For example, to generate\n",
        "a DataFrame like this…\n",
        "\n",
        "| id  | gender | date_of_birth | marital_status |\n",
        "|-----|--------|---------------|----------------|\n",
        "| …   | …      | …             | …              |\n",
        "\n",
        "…you could use the following code:"
      ],
      "id": "1962df57-d385-4e2e-aaeb-7572914f3a20"
    },
    {
      "cell_type": "code",
      "execution_count": 3,
      "metadata": {},
      "outputs": [
        {
          "output_type": "stream",
          "name": "stdout",
          "text": [
            "https://hapi.fhir.org/baseR4/Patient?_count=10&identifier=https://github.com/synthetichealth/synthea|"
          ]
        },
        {
          "output_type": "stream",
          "name": "stderr",
          "text": [
            "Query & Build DF (Patient):   0%|          | 0/1 [00:00<?, ?it/s]Query & Build DF (Patient): 100%|██████████| 1/1 [00:00<00:00, 563.37it/s]"
          ]
        },
        {
          "output_type": "display_data",
          "metadata": {},
          "data": {
            "text/html": [
              "\n",
              "</div>"
            ]
          }
        }
      ],
      "source": [
        "# Instantiate and perform the FHIR search interaction in a single function call\n",
        "df = search.steal_bundles_to_dataframe(\n",
        "    resource_type=\"Patient\",\n",
        "    request_params={\n",
        "        \"_count\": 10,  # Get 10 instances per page\n",
        "        \"identifier\": \"https://github.com/synthetichealth/synthea|\",\n",
        "    },\n",
        "    num_pages=1,  # Get 1 page (so a total of 10 instances)\n",
        "    fhir_paths=[\n",
        "        (\"id\", \"identifier[0].value\"),\n",
        "        (\"gender\", \"gender\"),\n",
        "        (\"date_of_birth\", \"birthDate\"),\n",
        "        (\"marital_status\", \"maritalStatus.coding[0].code\"),\n",
        "    ],\n",
        ")\n",
        "df"
      ],
      "id": "893cc514"
    },
    {
      "cell_type": "markdown",
      "metadata": {},
      "source": [
        "While FHIRPath can be quite complex, its use in FHIR-PYrate is often\n",
        "straight forward. Nested elements are separated with `.`, and elements\n",
        "with multiple sub-values are identified by `[N]` where `N` is an integer\n",
        "starting at 0. The element paths can typically be constructed by loading\n",
        "all elements into a DataFrame and then manually deriving the FHIRPaths\n",
        "from the column names, or by looking at the hierarchy resource pages in\n",
        "the FHIR specification (see [Key FHIR Resources](key-fhir-resources.qmd)\n",
        "for more information on reading the FHIR specification).\n",
        "\n",
        "## 4 Elements with multiple sub-values\n",
        "\n",
        "There are multiple `identifier[N].value` values for each instance of\n",
        "Patient in this dataset."
      ],
      "id": "2eafaecf-a314-49cf-a895-c42856b8e415"
    },
    {
      "cell_type": "code",
      "execution_count": 4,
      "metadata": {},
      "outputs": [
        {
          "output_type": "stream",
          "name": "stdout",
          "text": [
            "https://hapi.fhir.org/baseR4/Patient?_count=10&identifier=https://github.com/synthetichealth/synthea|"
          ]
        },
        {
          "output_type": "stream",
          "name": "stderr",
          "text": [
            "Query & Build DF (Patient):   0%|          | 0/1 [00:00<?, ?it/s]Query & Build DF (Patient): 100%|██████████| 1/1 [00:00<00:00, 1088.86it/s]"
          ]
        },
        {
          "output_type": "display_data",
          "metadata": {},
          "data": {
            "text/html": [
              "\n",
              "</div>"
            ]
          }
        }
      ],
      "source": [
        "# Instantiate and perform the FHIR search interaction in a single function call\n",
        "df = search.steal_bundles_to_dataframe(\n",
        "    resource_type=\"Patient\",\n",
        "    request_params={\n",
        "        \"_count\": 10,  # Get 10 instances per page\n",
        "        \"identifier\": \"https://github.com/synthetichealth/synthea|\",\n",
        "    },\n",
        "    num_pages=1,  # Get 1 page (so a total of 10 instances)\n",
        "    fhir_paths=[(\"id\", \"identifier[0].value\"), (\"identifiers\", \"identifier.value\")],\n",
        ")\n",
        "df"
      ],
      "id": "adc93594"
    },
    {
      "cell_type": "markdown",
      "metadata": {},
      "source": [
        "To convert to separate columns, you can do the following:"
      ],
      "id": "9eec5603-7b70-47f9-b9a7-cfcf1ee99421"
    },
    {
      "cell_type": "code",
      "execution_count": 5,
      "metadata": {},
      "outputs": [
        {
          "output_type": "display_data",
          "metadata": {},
          "data": {
            "text/html": [
              "\n",
              "</div>"
            ]
          }
        }
      ],
      "source": [
        "df.join(pd.DataFrame(df.pop(\"identifiers\").values.tolist()).add_prefix(\"identifier_\"))"
      ],
      "id": "f9f24911"
    },
    {
      "cell_type": "markdown",
      "metadata": {},
      "source": [
        "This will give you separate `identifier_0`, `identifier_1`, … columns\n",
        "for each `Patient.identifier[N]` value.\n",
        "\n",
        "## 5 Retrieving related data\n",
        "\n",
        "To retrieve instances of related resources, additional `request_params`\n",
        "can be added. See [Using the FHIR API to Access\n",
        "Data](fhir-accessing-data.qmd#multiple-types-of-resources) for more\n",
        "information on constructing the parameters for FHIR search interactions.\n",
        "\n",
        "In the example below, instances of Patient and instances of related\n",
        "Observation resources are requested:"
      ],
      "id": "9d8d1e84-5500-4fff-8c0d-e31c5ced3eea"
    },
    {
      "cell_type": "code",
      "execution_count": 6,
      "metadata": {},
      "outputs": [
        {
          "output_type": "stream",
          "name": "stdout",
          "text": [
            "https://hapi.fhir.org/baseR4/Patient?_count=10&_revinclude=Observation:patient&identifier=https://github.com/synthetichealth/synthea|"
          ]
        },
        {
          "output_type": "stream",
          "name": "stderr",
          "text": [
            "Query & Build DF (Patient):   0%|          | 0/1 [00:00<?, ?it/s]Query & Build DF (Patient): 100%|██████████| 1/1 [00:00<00:00, 1206.30it/s]"
          ]
        },
        {
          "output_type": "display_data",
          "metadata": {},
          "data": {
            "text/html": [
              "\n",
              "</div>"
            ]
          }
        }
      ],
      "source": [
        "# Instantiate and perform the FHIR search interaction in a single function call\n",
        "dfs = search.steal_bundles_to_dataframe(\n",
        "    resource_type=\"Patient\",\n",
        "    request_params={\n",
        "        # Get instances of Observation where `Observation.patient` refers to a fetched Patient instance\n",
        "        \"_revinclude\": \"Observation:patient\",\n",
        "        \"identifier\": \"https://github.com/synthetichealth/synthea|\",\n",
        "        \"_count\": 10,  # Get 10 instances per page\n",
        "    },\n",
        "    num_pages=1,  # Get 1 page (so a total of 10 instances)\n",
        ")\n",
        "\n",
        "# `dfs` is a dictionary where the key is the FHIR resource type, and the value is the DataFrame\n",
        "#\n",
        "# Split these into separate variables for easy access:\n",
        "df_patients = dfs[\"Patient\"]\n",
        "df_observations = dfs[\"Observation\"]\n",
        "\n",
        "# Look at the first row of the Observations DataFrame\n",
        "df_observations.head(1).T"
      ],
      "id": "349a9fb7"
    },
    {
      "cell_type": "markdown",
      "metadata": {},
      "source": [
        "As of April 2023, FHIR-PYrate [does not have a good approach to\n",
        "`fhir_paths` for searches that return instances of multiple FHIR\n",
        "resource\n",
        "types](https://github.com/UMEssen/FHIR-PYrate#bundles_to_dataframe).\n",
        "\n",
        "To work around this, you can also iterate over all the rows in a\n",
        "DataFrame and request related resources using\n",
        "[`trade_rows_for_bundles()`](https://github.com/UMEssen/FHIR-PYrate#trade_rows_for_bundles):"
      ],
      "id": "e65c71aa-0daf-47c2-8c64-511a2360fe6e"
    },
    {
      "cell_type": "code",
      "execution_count": 7,
      "metadata": {},
      "outputs": [
        {
          "output_type": "stream",
          "name": "stderr",
          "text": [
            "Query & Build DF (Observation):   0%|          | 0/2 [00:00<?, ?it/s]                                                                     Query & Build DF (Observation):   0%|          | 0/2 [00:00<?, ?it/s]Query & Build DF (Observation):  50%|█████     | 1/2 [00:00<00:00,  2.18it/s]"
          ]
        },
        {
          "output_type": "stream",
          "name": "stdout",
          "text": [
            "https://hapi.fhir.org/baseR4/Observation?_count=10&subject=258974"
          ]
        },
        {
          "output_type": "stream",
          "name": "stderr",
          "text": [
            "                                                                             Query & Build DF (Observation):  50%|█████     | 1/2 [00:01<00:00,  2.18it/s]Query & Build DF (Observation): 100%|██████████| 2/2 [00:01<00:00,  1.29it/s]Query & Build DF (Observation): 100%|██████████| 2/2 [00:01<00:00,  1.37it/s]"
          ]
        },
        {
          "output_type": "stream",
          "name": "stdout",
          "text": [
            "https://hapi.fhir.org/baseR4/Observation?_count=10&subject=298666"
          ]
        },
        {
          "output_type": "stream",
          "name": "stderr",
          "text": []
        }
      ],
      "source": [
        "df_observations2 = search.trade_rows_for_dataframe(\n",
        "    df_patients,\n",
        "    resource_type=\"Observation\",\n",
        "    request_params={\n",
        "        \"_count\": \"10\",  # Get 10 instances per page\n",
        "    },\n",
        "    num_pages=1,\n",
        "    # Load Observations where `Observation.subject` references the instance of Patient\n",
        "    # identified by `id` in the `df_patients` DataFrame\n",
        "    df_constraints={\"subject\": \"id\"},\n",
        "    fhir_paths=[\n",
        "        (\"observation_id\", \"id\"),\n",
        "        (\"patient\", \"subject.reference\"),\n",
        "        (\"status\", \"status\"),\n",
        "        (\"code\", \"code.coding[0].code\"),\n",
        "        (\"code_display\", \"code.coding[0].display\"),\n",
        "        (\"value\", \"valueQuantity.value\"),\n",
        "        (\"value_units\", \"valueQuantity.unit\"),\n",
        "        (\"datetime\", \"effectiveDateTime\"),\n",
        "    ],\n",
        ")\n",
        "\n",
        "# Look at the first row of the Observations DataFrame\n",
        "df_observations2.head(15)"
      ],
      "id": "7a76771d"
    },
    {
      "cell_type": "markdown",
      "metadata": {},
      "source": [
        "Note that this will only display `value` for instances of Observation\n",
        "that record a value in `Observation.valueQuantity`. Typically, you would\n",
        "filter by `Observation.code` and then choose the appropriate data type\n",
        "for `Observation.value[x]` to import. For example,\n",
        "`http://loinc.org|72166-2` is the LOINC for smoking status. To get\n",
        "smoking status records for all patients in `df_patients`:"
      ],
      "id": "7dc2c6f1-917a-49fd-94d6-c99bdeffbf3c"
    },
    {
      "cell_type": "code",
      "execution_count": 8,
      "metadata": {},
      "outputs": [
        {
          "output_type": "stream",
          "name": "stdout",
          "text": [
            "https://hapi.fhir.org/baseR4/Observation?_count=20&code=http://loinc.org|72166-2"
          ]
        },
        {
          "output_type": "stream",
          "name": "stderr",
          "text": [
            "Query & Build DF (Observation):   0%|          | 0/1 [00:00<?, ?it/s]Query & Build DF (Observation): 100%|██████████| 1/1 [00:00<00:00, 13066.37it/s]"
          ]
        }
      ],
      "source": [
        "# Directly search for smoking status observations\n",
        "\n",
        "df_observations2 = search.steal_bundles_to_dataframe(\n",
        "    resource_type=\"Observation\",\n",
        "    request_params={\n",
        "        \"code\": \"http://loinc.org|72166-2\",  # LOINC code for smoking status\n",
        "        \"_count\": 20,  # Get more observations since we're not limiting by patient\n",
        "    },\n",
        "    num_pages=1,\n",
        "    fhir_paths=[\n",
        "        (\"observation_id\", \"id\"),\n",
        "        (\"patient\", \"subject.reference\"),\n",
        "        (\"status\", \"status\"),\n",
        "        (\"code\", \"code.coding[0].code\"),\n",
        "        (\"code_display\", \"code.coding[0].display\"),\n",
        "        (\"value\", \"valueCodeableConcept.coding[0].code\"),\n",
        "        (\"value_display\", \"valueCodeableConcept.coding[0].display\"),\n",
        "        (\"datetime\", \"effectiveDateTime\"),\n",
        "    ],\n",
        ")\n",
        "\n",
        "# Look at the first row of the Observations DataFrame\n",
        "df_observations2.head(15)"
      ],
      "id": "a490cdc8"
    },
    {
      "cell_type": "markdown",
      "metadata": {},
      "source": [
        "More information about the [`search` interaction used above to filter\n",
        "Observations is\n",
        "here](fhir-accessing-data.qmd#getting-all-patients-that-meet-specified-criteria)."
      ],
      "id": "4b398324-8a8b-4622-ab1e-7739336fbfac"
    }
  ],
  "nbformat": 4,
  "nbformat_minor": 5,
  "metadata": {
    "kernelspec": {
      "name": "python3",
      "display_name": "Python 3 (ipykernel)",
      "language": "python",
      "path": "/home/runner/work/fhir-for-research/fhir-for-research/.venv/share/jupyter/kernels/python3"
    },
    "language_info": {
      "name": "python",
      "codemirror_mode": {
        "name": "ipython",
        "version": "3"
      },
      "file_extension": ".py",
      "mimetype": "text/x-python",
      "nbconvert_exporter": "python",
      "pygments_lexer": "ipython3",
      "version": "3.11.13"
    }
  }
}