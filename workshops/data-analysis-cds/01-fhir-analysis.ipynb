{
  "cells": [
    {
      "cell_type": "markdown",
      "metadata": {},
      "source": [
        "# Analyzing FHIR Data in a Tabular Format With Python\n",
        "\n",
        "## Introduction\n",
        "\n",
        "For the best learning experience, run this tutorial interactively, via\n",
        "one of the environment setup options. Use the above button depending on\n",
        "your chosen [setup option](index.qmd#environment-setup).\n",
        "\n",
        "Data analysis approaches in Python often use [Pandas\n",
        "DataFrames](https://pandas.pydata.org/pandas-docs/stable/reference/api/pandas.DataFrame.html)\n",
        "to store tabular data. There are two primary approaches to loading\n",
        "FHIR-formatted data into Pandas DataFrames:\n",
        "\n",
        "1.  Writing Python code to manually convert FHIR instances in JSON\n",
        "    format into DataFrames.\n",
        "\n",
        "    This does not require any special skills beyond data manipulation in\n",
        "    Python, but in practice can be laborious (especially with large\n",
        "    number of data elements) and prone to bugs.\n",
        "\n",
        "2.  Using a purpose-built library like\n",
        "    [FHIR-PYrate](https://github.com/UMEssen/FHIR-PYrate) to\n",
        "    automatically convert FHIR instances into DataFrames.\n",
        "\n",
        "    It is recommended to try this approach first, and only fall back\n",
        "    to (1) if needed.\n",
        "\n",
        "In this tutorial, we’re using a FHIR server located at\n",
        "**http://localhost:8080/fhir** but any FHIR server loaded with\n",
        "appropriate data can be used. For instructions on setting up your own\n",
        "test server, see [Standing up a FHIR Testing\n",
        "Server](../../modules/synthea-test-server.qmd).\n",
        "\n",
        "## Dependencies\n",
        "\n",
        "Run the cell below to install required packages if you’re in a fresh\n",
        "environment. Skip this step if you already have these packages\n",
        "installed."
      ],
      "id": "7a153201-bba2-4515-8441-c80f3e99fd73"
    },
    {
      "cell_type": "code",
      "execution_count": 1,
      "metadata": {},
      "outputs": [],
      "source": [
        "# Install required dependencies\n",
        "try:\n",
        "  !pip install fhir_pyrate pandas==1.5.3 requests numpy==1.26.4\n",
        "\n",
        "  import numpy as np\n",
        "  if np.__version__ != '1.26.4':\n",
        "    raise ImportError(\"Incorrect numpy version\")\n",
        "except ImportError:\n",
        "  # Force runtime restart to load the updated libraries\n",
        "  print('Restarting runtime.')\n",
        "  import os\n",
        "  os.kill(os.getpid(), 9)"
      ],
      "id": "39e02d28"
    },
    {
      "cell_type": "markdown",
      "metadata": {},
      "source": [
        "## FHIR Server Setup\n",
        "\n",
        "<b>WARNING:</b> You must set a FHIR server URL below before running the\n",
        "rest of the notebook. If you don’t have access to a FHIR server, see\n",
        "<b>Standing up a FHIR Testing Server</b> on the FHIR for Research\n",
        "website for instructions."
      ],
      "id": "bf237458-9dcd-45ba-ac8d-5cde5726e241"
    },
    {
      "cell_type": "code",
      "execution_count": 2,
      "metadata": {},
      "outputs": [],
      "source": [
        "# Set your FHIR server URL\n",
        "import os\n",
        "\n",
        "# Replace with your actual FHIR server URL\n",
        "os.environ[\"FHIR_SERVER\"] = \"https://your-fhir-server-url.com\"\n",
        "\n",
        "# Verify\n",
        "print(f\"FHIR server set to: {os.environ.get('FHIR_SERVER')}\")\n",
        "\n",
        "# Check if default URL is being used\n",
        "if os.environ.get(\"FHIR_SERVER\") == \"https://your-fhir-server-url.com\":\n",
        "    print(\n",
        "        \"\\033[91m\\033[1m\\nWARNING: ACTION REQUIRED - Change the default FHIR server URL before continuing!\\n\\033[0m\"\n",
        "    )"
      ],
      "id": "86b18f2e"
    },
    {
      "cell_type": "markdown",
      "metadata": {},
      "source": [
        "## Retrieving FHIR data (Beginner Level)\n",
        "\n",
        "In this section, you’ll learn how to:\n",
        "\n",
        "-   Connect to a FHIR server\n",
        "-   Retrieve basic patient data\n",
        "-   Convert FHIR resources to a Pandas DataFrame\n",
        "\n",
        "Check the server connection."
      ],
      "id": "58fa0597-b50f-4e44-a8d2-09f34213eb86"
    },
    {
      "cell_type": "code",
      "execution_count": 3,
      "metadata": {},
      "outputs": [
        {
          "output_type": "stream",
          "name": "stdout",
          "text": [
            "Using FHIR server: http://localhost:8080/fhir\n",
            "Server status: 200"
          ]
        }
      ],
      "source": [
        "# Load dependency\n",
        "import requests, os\n",
        "\n",
        "fhir_server = os.environ.get('FHIR_SERVER')\n",
        "print(f\"Using FHIR server: {fhir_server}\")\n",
        "\n",
        "# Check if the server is running and connection is successful\n",
        "response = requests.get(f\"{fhir_server}/metadata\")\n",
        "\n",
        "print(f\"Server status: {response.status_code}\")"
      ],
      "id": "e7bd4689"
    },
    {
      "cell_type": "markdown",
      "metadata": {},
      "source": [
        "> **Understanding the FHIR Metadata Endpoint**\n",
        ">\n",
        "> The metadata endpoint (`/metadata`) is a special FHIR endpoint that\n",
        "> returns the server’s capability statement - a structured document that\n",
        "> describes what the server can do. When we query this endpoint:\n",
        ">\n",
        "> -   We’re checking if the server is responsive (status code 200)\n",
        "> -   We’re verifying it’s a valid FHIR server\n",
        "> -   The response contains details about supported resources,\n",
        ">     operations, and search parameters\n",
        ">\n",
        "> This is a lightweight way to validate connectivity before attempting\n",
        "> more complex queries.\n",
        "\n",
        "If connection to the server is successful (code 200), proceed with the\n",
        "next code block to pull data from the server."
      ],
      "id": "1a8da194-3e8f-4103-a2e7-407adc6e4aec"
    },
    {
      "cell_type": "code",
      "execution_count": 4,
      "metadata": {},
      "outputs": [
        {
          "output_type": "stream",
          "name": "stdout",
          "text": [
            "http://localhost:8080/fhir/Patient?_count=10"
          ]
        },
        {
          "output_type": "stream",
          "name": "stderr",
          "text": [
            "Query (Patient):   0%|          | 0/1 [00:00<?, ?it/s]Query (Patient): 100%|██████████| 1/1 [00:00<00:00, 1009.70it/s]"
          ]
        },
        {
          "output_type": "display_data",
          "metadata": {},
          "data": {
            "text/html": [
              "\n",
              "<p>5 rows × 89 columns</p>\n",
              "</div>"
            ]
          }
        }
      ],
      "source": [
        "# Load dependencies\n",
        "from fhir_pyrate import Pirate\n",
        "import pandas as pd\n",
        "\n",
        "# Instantiate a Pirate object using the FHIR-PYrate library to query the server\n",
        "search = Pirate(\n",
        "    auth=None,  # Pass the configured session\n",
        "    base_url=fhir_server,\n",
        "    print_request_url=True,\n",
        ")\n",
        "\n",
        "# Use the whimsically named `steal_bundles()` method\n",
        "# to instantiate a search interaction\n",
        "# For more information, see https://github.com/UMEssen/FHIR-PYrate/#pirate\n",
        "bundles = search.steal_bundles(\n",
        "    resource_type=\"Patient\",\n",
        "    request_params={\n",
        "        \"_count\": 10,  # Get 10 instances per page\n",
        "    },\n",
        "    num_pages=1,  # Get 1 page (so a total of 10 instances)\n",
        ")\n",
        "\n",
        "# Execute the search and convert to a Pandas DataFrame\n",
        "df = search.bundles_to_dataframe(bundles)\n",
        "\n",
        "df.head(5)"
      ],
      "id": "60cf84d8"
    },
    {
      "cell_type": "markdown",
      "metadata": {},
      "source": [
        "It is easier to see the contents of this DataFrame by printing out its\n",
        "first row vertically:"
      ],
      "id": "67ac5c45-d411-4d2f-8efc-e4d7917b0f1e"
    },
    {
      "cell_type": "code",
      "execution_count": 5,
      "metadata": {},
      "outputs": [
        {
          "output_type": "display_data",
          "metadata": {},
          "data": {
            "text/html": [
              "\n",
              "</div>"
            ]
          }
        }
      ],
      "source": [
        "# Print the first row of the DataFrame vertically for easier reading.\n",
        "pd.set_option(\"display.max_rows\", 100)  # Show all rows\n",
        "df.head(1).T"
      ],
      "id": "b428fe4c"
    },
    {
      "cell_type": "markdown",
      "metadata": {},
      "source": [
        "If you look at the output above, you can see FHIR-PYrate collapsed the\n",
        "hierarchical FHIR data structure into DataFrame columns. FHIR-PYrate\n",
        "does this by taking an element from the FHIR-formatted data like\n",
        "`Patient.identifier[0].value` and converting to an underscore-delimited\n",
        "column name like `identifier_0_value`. (Note that `Patient.identifier`\n",
        "has multiple values in the FHIR data, so there are multiple\n",
        "`identifier_N_...` columns in the DataFrame.)\n",
        "\n",
        "**FHIR to DataFrame Mapping Example**\n",
        "\n",
        "| FHIR JSON Structure | DataFrame Column Name |\n",
        "|-----------------------------------|-------------------------------------|\n",
        "| `{\"identifier\": [{\"value\": \"123\"}]}` | `identifier_0_value` |\n",
        "| `{\"name\": [{\"family\": \"Smith\"}]}` | `name_0_family` |\n",
        "| `{\"telecom\": [{\"system\": \"phone\", \"value\": \"555-1234\"}]}` | `telecom_0_system`, `telecom_0_value` |\n",
        "\n",
        "This mapping allows you to access nested FHIR data using familiar\n",
        "DataFrame operations.\n",
        "\n",
        "## Selecting specific columns (Intermediate Level)\n",
        "\n",
        "Usually not every single value from a FHIR instance is needed for\n",
        "analysis. There are two ways to get a more concise DataFrame:\n",
        "\n",
        "1.  Use the approach above to load all elements into a DataFrame, remove\n",
        "    the unneeded columns, and rename the remaining columns as needed.\n",
        "    The [`process_function` capability in\n",
        "    FHIR-PYrate](https://github.com/UMEssen/FHIR-PYrate#bundles_to_dataframe)\n",
        "    allows you to integrate this approach into the\n",
        "    `bundles_to_dataframe()` method call.\n",
        "2.  Use [FHIRPath](https://hl7.org/fhirpath/) to select specific\n",
        "    elements and map them onto column names.\n",
        "\n",
        "The second approach is typically more concise. For example, to generate\n",
        "a DataFrame like this…\n",
        "\n",
        "| id  | gender | date_of_birth | marital_status |\n",
        "|-----|--------|---------------|----------------|\n",
        "| …   | …      | …             | …              |\n",
        "\n",
        "…you could use the following code:"
      ],
      "id": "a5f9e39e-4ccc-4668-ac40-14de5b1273db"
    },
    {
      "cell_type": "code",
      "execution_count": 6,
      "metadata": {},
      "outputs": [
        {
          "output_type": "stream",
          "name": "stdout",
          "text": [
            "http://localhost:8080/fhir/Patient?_count=10"
          ]
        },
        {
          "output_type": "stream",
          "name": "stderr",
          "text": [
            "Query & Build DF (Patient):   0%|          | 0/1 [00:00<?, ?it/s]Query & Build DF (Patient): 100%|██████████| 1/1 [00:00<00:00, 371.77it/s]"
          ]
        },
        {
          "output_type": "display_data",
          "metadata": {},
          "data": {
            "text/html": [
              "\n",
              "</div>"
            ]
          }
        }
      ],
      "source": [
        "# Instantiate and perform the FHIR search interaction in a single function call\n",
        "df = search.steal_bundles_to_dataframe(\n",
        "    resource_type=\"Patient\",\n",
        "    request_params={\n",
        "        \"_count\": 10,  # Get 10 instances per page\n",
        "    },\n",
        "    num_pages=1,  # Get 1 page (so a total of 10 instances)\n",
        "    fhir_paths=[\n",
        "        (\"id\", \"identifier[0].value\"),\n",
        "        (\"gender\", \"gender\"),\n",
        "        (\"date_of_birth\", \"birthDate\"),\n",
        "        (\"marital_status\", \"maritalStatus.coding[0].code\"),\n",
        "    ],\n",
        ")\n",
        "df"
      ],
      "id": "1c6bd526"
    },
    {
      "cell_type": "markdown",
      "metadata": {},
      "source": [
        "While FHIRPath can be quite complex, its use in FHIR-PYrate is often\n",
        "straightforward. Nested elements are separated with `.`, and elements\n",
        "with multiple sub-values are identified by `[N]` where `N` is an integer\n",
        "starting at 0.\n",
        "\n",
        "Examples illustrating the relationship between FHIRPath and DataFrame\n",
        "column names:\n",
        "\n",
        "-   When using FHIRPath, `maritalStatus.coding[0].code` refers to the\n",
        "    same data that appears in the column named\n",
        "    `maritalStatus_coding_0_code` in the full DataFrame output. The\n",
        "    `[0]` indicates it’s the first coding in the maritalStatus array.\n",
        "\n",
        "-   Similarly, in the DataFrame output we saw a column\n",
        "    `identifier_3_type_coding_0_system` which corresponds to the\n",
        "    FHIRPath expression `identifier[3].type.coding[0].system`. This\n",
        "    refers to the system identifier for the type of the fourth\n",
        "    identifier (arrays are zero-indexed).\n",
        "\n",
        "The element paths can typically be constructed by looking at the\n",
        "hierarchy resource pages in the FHIR specification, or by examining the\n",
        "column names in a full DataFrame output and converting the underscore\n",
        "notation to FHIRPath notation.\n",
        "\n",
        "## Working with Multiple Resources (Advanced Level)\n",
        "\n",
        "In this section, you’ll learn techniques for working with multiple FHIR\n",
        "resources simultaneously - a common requirement for clinical data\n",
        "analysis. Building on the previous sections, we’ll explore:\n",
        "\n",
        "-   Handling elements with multiple values\n",
        "-   Retrieving and linking related resources using `_include` and\n",
        "    `_revinclude` parameters\n",
        "-   Creating more targeted queries with resource-specific filters\n",
        "\n",
        "### Elements with multiple sub-values\n",
        "\n",
        "There are multiple `identifier[N].value` values for each instance of\n",
        "Patient in this dataset."
      ],
      "id": "34ccd792-c78e-446e-84ff-33ad531fe7a0"
    },
    {
      "cell_type": "code",
      "execution_count": 7,
      "metadata": {},
      "outputs": [
        {
          "output_type": "stream",
          "name": "stdout",
          "text": [
            "http://localhost:8080/fhir/Patient?_count=10"
          ]
        },
        {
          "output_type": "stream",
          "name": "stderr",
          "text": [
            "Query & Build DF (Patient):   0%|          | 0/1 [00:00<?, ?it/s]Query & Build DF (Patient): 100%|██████████| 1/1 [00:00<00:00, 423.03it/s]"
          ]
        },
        {
          "output_type": "display_data",
          "metadata": {},
          "data": {
            "text/html": [
              "\n",
              "</div>"
            ]
          }
        }
      ],
      "source": [
        "# Instantiate and perform the FHIR search interaction in a single function call\n",
        "df = search.steal_bundles_to_dataframe(\n",
        "    resource_type=\"Patient\",\n",
        "    request_params={\n",
        "        \"_count\": 10,  # Get 10 instances per page\n",
        "    },\n",
        "    num_pages=1,  # Get 1 page (so a total of 10 instances)\n",
        "    fhir_paths=[(\"id\", \"identifier[0].value\"), (\"identifiers\", \"identifier.value\")],\n",
        ")\n",
        "df"
      ],
      "id": "95c4b5d5"
    },
    {
      "cell_type": "markdown",
      "metadata": {},
      "source": [
        "To convert to separate columns, you can do the following:"
      ],
      "id": "14dbe078-3865-4480-9c92-fe769ba556fb"
    },
    {
      "cell_type": "code",
      "execution_count": 8,
      "metadata": {},
      "outputs": [
        {
          "output_type": "display_data",
          "metadata": {},
          "data": {
            "text/html": [
              "\n",
              "</div>"
            ]
          }
        }
      ],
      "source": [
        "df.join(pd.DataFrame(df.pop(\"identifiers\").values.tolist()).add_prefix(\"identifier_\"))"
      ],
      "id": "06cd5546"
    },
    {
      "cell_type": "markdown",
      "metadata": {},
      "source": [
        "This will give you separate `identifier_0`, `identifier_1`, … columns\n",
        "for each `Patient.identifier[N]` value.\n",
        "\n",
        "### Retrieving multiple resource types\n",
        "\n",
        "FHIR-PYrate supports working with multiple resource types in a single\n",
        "query using the `_include` or `_revinclude` parameters. This allows you\n",
        "to retrieve related resources in a single API call.\n",
        "\n",
        "#### Using `_revinclude` with FHIRPath\n",
        "\n",
        "In this example, we retrieve Patient resources along with related\n",
        "Observation resources, and we use FHIRPath to select specific fields\n",
        "from each resource type:"
      ],
      "id": "8062e5ae-0a8b-48e4-a4e3-c5bf7fd6399d"
    },
    {
      "cell_type": "code",
      "execution_count": 9,
      "metadata": {},
      "outputs": [
        {
          "output_type": "stream",
          "name": "stdout",
          "text": [
            "http://localhost:8080/fhir/Patient?_count=10&_revinclude=Observation:patient"
          ]
        },
        {
          "output_type": "stream",
          "name": "stderr",
          "text": [
            "Query & Build DF (Patient):   0%|          | 0/1 [00:00<?, ?it/s]Query & Build DF (Patient): 100%|██████████| 1/1 [00:00<00:00,  3.72it/s]"
          ]
        },
        {
          "output_type": "stream",
          "name": "stdout",
          "text": [
            "Patient columns: ['id', 'patient_name', 'birth_date']\n",
            "Observation columns: ['id', 'observation_code', 'observation_value', 'observation_unit']"
          ]
        },
        {
          "output_type": "stream",
          "name": "stderr",
          "text": []
        },
        {
          "output_type": "display_data",
          "metadata": {},
          "data": {
            "text/html": [
              "\n",
              "</div>"
            ]
          }
        }
      ],
      "source": [
        "# Retrieve patients and related observations\n",
        "dfs = search.steal_bundles_to_dataframe(\n",
        "    resource_type=\"Patient\",\n",
        "    request_params={\n",
        "        # Get instances of Observation where `Observation.patient` refers to a fetched Patient instance\n",
        "        \"_revinclude\": \"Observation:patient\",\n",
        "        \"_count\": 10,  # Get 10 instances per page\n",
        "    },\n",
        "    num_pages=1,  # Get 1 page (so a total of 10 instances)\n",
        "    fhir_paths=[\n",
        "        # Common paths that could appear in either resource\n",
        "        (\"id\", \"id\"),\n",
        "        \n",
        "        # Patient-specific paths\n",
        "        (\"patient_name\", \"name[0].family\"),\n",
        "        (\"birth_date\", \"birthDate\"),\n",
        "        \n",
        "        # Observation-specific paths\n",
        "        (\"observation_code\", \"code.coding[0].code\"),\n",
        "        (\"observation_value\", \"valueQuantity.value\"),\n",
        "        (\"observation_unit\", \"valueQuantity.unit\")\n",
        "    ]\n",
        ")\n",
        "\n",
        "# `dfs` is a dictionary where the key is the FHIR resource type, and the value is the DataFrame\n",
        "# Split these into separate variables for easy access:\n",
        "df_patients = dfs[\"Patient\"]\n",
        "df_observations = dfs[\"Observation\"]\n",
        "\n",
        "# Each DataFrame will only contain columns relevant to its resource type\n",
        "# Empty columns are automatically removed from each DataFrame\n",
        "print(f\"Patient columns: {df_patients.columns.tolist()}\")\n",
        "print(f\"Observation columns: {df_observations.columns.tolist()}\")\n",
        "\n",
        "# Look at the first row of each DataFrame\n",
        "df_patients.head(1)\n",
        "df_observations.head(1)"
      ],
      "id": "eaca493f"
    },
    {
      "cell_type": "markdown",
      "metadata": {},
      "source": [
        "#### Using `trade_rows_for_dataframe` for more control\n",
        "\n",
        "Sometimes you need more fine-grained control over how related resources\n",
        "are queried. In these cases, you can use `trade_rows_for_dataframe` to\n",
        "retrieve related resources based on data in an existing DataFrame:"
      ],
      "id": "c6efa6ed-7549-4210-9aaa-f11737a1ee48"
    },
    {
      "cell_type": "code",
      "execution_count": 10,
      "metadata": {},
      "outputs": [
        {
          "output_type": "stream",
          "name": "stderr",
          "text": [
            "Query & Build DF (Observation):   0%|          | 0/5 [00:00<?, ?it/s]                                                                     Query & Build DF (Observation):   0%|          | 0/5 [00:00<?, ?it/s]                                                                     Query & Build DF (Observation):   0%|          | 0/5 [00:00<?, ?it/s]                                                                     Query & Build DF (Observation):   0%|          | 0/5 [00:00<?, ?it/s]                                                                     Query & Build DF (Observation):   0%|          | 0/5 [00:00<?, ?it/s]Query & Build DF (Observation):  80%|████████  | 4/5 [00:00<00:00, 31.51it/s]                                                                             Query & Build DF (Observation):  80%|████████  | 4/5 [00:00<00:00, 31.51it/s]Query & Build DF (Observation): 100%|██████████| 5/5 [00:00<00:00, 31.31it/s]"
          ]
        },
        {
          "output_type": "stream",
          "name": "stdout",
          "text": [
            "http://localhost:8080/fhir/Observation?_count=10&subject=7d9ba758-f0b8-3fc3-befa-f0e8e8fb6935\n",
            "http://localhost:8080/fhir/Observation?_count=10&subject=df860bc2-1943-237f-7445-ed960a1ef069\n",
            "http://localhost:8080/fhir/Observation?_count=10&subject=837e80f6-a7a5-77f8-36aa-c7b8ff002c4b\n",
            "http://localhost:8080/fhir/Observation?_count=10&subject=68c3ae0b-e298-62b7-5d3a-7936fd998fe0\n",
            "http://localhost:8080/fhir/Observation?_count=10&subject=39533e4a-f6f2-a144-ab37-6500460250dc"
          ]
        },
        {
          "output_type": "display_data",
          "metadata": {},
          "data": {
            "text/html": [
              "\n",
              "</div>"
            ]
          }
        }
      ],
      "source": [
        "df_observations2 = search.trade_rows_for_dataframe(\n",
        "    df_patients,\n",
        "    resource_type=\"Observation\",\n",
        "    request_params={\n",
        "        \"_count\": \"10\",  # Get 10 instances per page\n",
        "    },\n",
        "    num_pages=1,\n",
        "    # Load Observations where `Observation.subject` references the instance of Patient\n",
        "    # identified by `id` in the `df_patients` DataFrame\n",
        "    df_constraints={\"subject\": \"id\"},\n",
        "    fhir_paths=[\n",
        "        (\"observation_id\", \"id\"),\n",
        "        (\"patient\", \"subject.reference\"),\n",
        "        (\"status\", \"status\"),\n",
        "        (\"code\", \"code.coding[0].code\"),\n",
        "        (\"code_display\", \"code.coding[0].display\"),\n",
        "        (\"value\", \"valueQuantity.value\"),\n",
        "        (\"value_units\", \"valueQuantity.unit\"),\n",
        "        (\"datetime\", \"effectiveDateTime\"),\n",
        "    ],\n",
        ")\n",
        "\n",
        "# Look at the results\n",
        "df_observations2.head(5)"
      ],
      "id": "852d659d"
    },
    {
      "cell_type": "markdown",
      "metadata": {},
      "source": [
        "The `trade_rows_for_dataframe` approach offers several advantages:\n",
        "\n",
        "-   More precise control over query parameters for each related resource\n",
        "-   Ability to process patient data row by row, useful for large\n",
        "    datasets\n",
        "-   Option to retain columns from the original DataFrame using the\n",
        "    `with_ref` parameter\n",
        "\n",
        "### Filtering by resource attributes\n",
        "\n",
        "When querying resources, you often need to filter by specific\n",
        "attributes. For example, you might want to retrieve all smoking status\n",
        "observations:"
      ],
      "id": "1c6be404-dd1e-4e1f-a1f0-0d8e5a0e356c"
    },
    {
      "cell_type": "code",
      "execution_count": 11,
      "metadata": {},
      "outputs": [
        {
          "output_type": "stream",
          "name": "stdout",
          "text": [
            "http://localhost:8080/fhir/Observation?_count=20&code=http://loinc.org|72166-2"
          ]
        },
        {
          "output_type": "stream",
          "name": "stderr",
          "text": [
            "Query & Build DF (Observation):   0%|          | 0/1 [00:00<?, ?it/s]Query & Build DF (Observation): 100%|██████████| 1/1 [00:00<00:00, 137.55it/s]"
          ]
        },
        {
          "output_type": "display_data",
          "metadata": {},
          "data": {
            "text/html": [
              "\n",
              "</div>"
            ]
          }
        }
      ],
      "source": [
        "# Directly search for smoking status observations\n",
        "df_observations2 = search.steal_bundles_to_dataframe(\n",
        "    resource_type=\"Observation\",\n",
        "    request_params={\n",
        "        \"code\": \"http://loinc.org|72166-2\",  # LOINC code for smoking status\n",
        "        \"_count\": 20,  # Get more observations since we're not limiting by patient\n",
        "    },\n",
        "    num_pages=1,\n",
        "    fhir_paths=[\n",
        "        (\"observation_id\", \"id\"),\n",
        "        (\"patient\", \"subject.reference\"),\n",
        "        (\"status\", \"status\"),\n",
        "        (\"code\", \"code.coding[0].code\"),\n",
        "        (\"code_display\", \"code.coding[0].display\"),\n",
        "        (\"value\", \"valueCodeableConcept.coding[0].code\"),\n",
        "        (\"value_display\", \"valueCodeableConcept.coding[0].display\"),\n",
        "        (\"datetime\", \"effectiveDateTime\"),\n",
        "    ],\n",
        ")\n",
        "\n",
        "# Look at the first row of the Observations DataFrame\n",
        "df_observations2.head(15)"
      ],
      "id": "2074f070"
    },
    {
      "cell_type": "markdown",
      "metadata": {},
      "source": [
        "Note that when retrieving Observation resources, you’ll need to choose\n",
        "the appropriate data type for `Observation.value[x]` based on the type\n",
        "of observation. For quantitative observations, use\n",
        "`valueQuantity.value`, but for coded observations (like smoking status),\n",
        "use `valueCodeableConcept.coding[0].code`."
      ],
      "id": "ee9f4bcd-3915-4f40-bb80-e8058500b108"
    }
  ],
  "nbformat": 4,
  "nbformat_minor": 5,
  "metadata": {
    "kernelspec": {
      "name": "python3",
      "display_name": "Python 3 (ipykernel)",
      "language": "python",
      "path": "/home/runner/work/fhir-for-research/fhir-for-research/.venv/share/jupyter/kernels/python3"
    },
    "language_info": {
      "name": "python",
      "codemirror_mode": {
        "name": "ipython",
        "version": "3"
      },
      "file_extension": ".py",
      "mimetype": "text/x-python",
      "nbconvert_exporter": "python",
      "pygments_lexer": "ipython3",
      "version": "3.11.13"
    }
  }
}